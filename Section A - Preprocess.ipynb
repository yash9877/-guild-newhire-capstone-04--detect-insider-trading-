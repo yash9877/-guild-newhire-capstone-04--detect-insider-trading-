{
 "cells": [
  {
   "cell_type": "code",
   "execution_count": 2,
   "metadata": {
    "gradient": {
     "editing": false,
     "execution_count": 2,
     "id": "66fbbcc3-f3c1-4575-b777-f5b1b9aaaaa6",
     "kernelId": ""
    }
   },
   "outputs": [],
   "source": [
    "from textblob import TextBlob as tb\n",
    "import os\n",
    "import pandas as pd\n",
    "import numpy as np"
   ]
  },
  {
   "cell_type": "code",
   "execution_count": 3,
   "metadata": {
    "gradient": {
     "editing": false,
     "execution_count": 3,
     "id": "cf45b914-9704-4583-aa41-4cef61d2ee5b",
     "kernelId": ""
    }
   },
   "outputs": [
    {
     "name": "stderr",
     "output_type": "stream",
     "text": [
      "[nltk_data] Downloading package punkt to /root/nltk_data...\n",
      "[nltk_data]   Unzipping tokenizers/punkt.zip.\n"
     ]
    },
    {
     "data": {
      "text/plain": [
       "True"
      ]
     },
     "execution_count": 3,
     "metadata": {},
     "output_type": "execute_result"
    }
   ],
   "source": [
    "import nltk\n",
    "nltk.download('punkt')"
   ]
  },
  {
   "cell_type": "code",
   "execution_count": 4,
   "metadata": {
    "gradient": {
     "editing": false,
     "execution_count": 4,
     "id": "18f32e60-6b08-448d-b119-338180dabf13",
     "kernelId": ""
    }
   },
   "outputs": [],
   "source": [
    "#global containers\n",
    "features = []\n",
    "features_infected = []\n",
    "features_non_infected = []"
   ]
  },
  {
   "cell_type": "code",
   "execution_count": 5,
   "metadata": {
    "gradient": {
     "editing": false,
     "execution_count": 5,
     "id": "d3b0fb11-49e0-4518-9193-f73a3cdd07cd",
     "kernelId": ""
    }
   },
   "outputs": [],
   "source": [
    "stopwords = set(w.rstrip() for w in open('stopwords.txt'))"
   ]
  },
  {
   "cell_type": "code",
   "execution_count": 6,
   "metadata": {
    "gradient": {
     "editing": false,
     "execution_count": 6,
     "id": "5b6aa1a2-3336-47e1-a339-3a5a979c0588",
     "kernelId": ""
    }
   },
   "outputs": [],
   "source": [
    "def build_features(file_name):\n",
    "    list_row = []   \n",
    "    data_df = pd.read_csv(file_name)\n",
    "    print(\"file reading complete\")\n",
    "    data_df.drop (columns=data_df. columns [0], axis= 1, inplace= True)\n",
    "    print(data_df.head())\n",
    "    for i, r in data_df.iterrows():\n",
    "        title = r['title']\n",
    "        litigation = r['lt']      \n",
    "        litigation_combined = str(title) + str(litigation)\n",
    "        tbb  = tb(litigation_combined)\n",
    "        litigation_combined = tbb.words\n",
    "        \n",
    "        row =[]\n",
    "        for i in range(0,len(litigation_combined)):\n",
    "            if len(litigation_combined[i]) > 2 and  len(litigation_combined[i]) < 11 and litigation_combined[i].lower() not in stopwords:\n",
    "                val = str(litigation_combined[i])\n",
    "                #val =\"%r\"%val #converting into raw string\n",
    "                if val.isdigit():\n",
    "                    val = str(len(val)) + \"digit\"\n",
    "                row.append(val)\n",
    "                #print(\"row\")\n",
    "        list_row.append(row)   \n",
    "    return list_row"
   ]
  },
  {
   "cell_type": "code",
   "execution_count": 7,
   "metadata": {
    "gradient": {
     "editing": false,
     "execution_count": 7,
     "id": "fa80e580-36db-4fc4-82de-81c4540bf749",
     "kernelId": ""
    }
   },
   "outputs": [
    {
     "name": "stdout",
     "output_type": "stream",
     "text": [
      "file reading complete\n",
      "   lt_no    yr title                                                 lt  class\n",
      "0  14775  1996   NaN   Washington, D C   14775January 4, 1996V  LIND...      1\n",
      "1  14776  1996   NaN    14776January 4, 1996 Accounting and Auditing...      1\n",
      "2  14799  1996   NaN  U S  Securities and Exchange Commission 14799J...      1\n",
      "3  14810  1996   NaN     14810February 2, 1996SECURITIESAND EXCHANGE...      1\n",
      "4  14811  1996   NaN   Securities and Exchange Commission  14811Febr...      1\n"
     ]
    }
   ],
   "source": [
    "filename = \"infected.csv\"\n",
    "features_infected = features_infected + build_features(filename)"
   ]
  },
  {
   "cell_type": "code",
   "execution_count": 8,
   "metadata": {},
   "outputs": [
    {
     "data": {
      "text/plain": [
       "1373"
      ]
     },
     "execution_count": 8,
     "metadata": {},
     "output_type": "execute_result"
    }
   ],
   "source": [
    "len(features_infected)"
   ]
  },
  {
   "cell_type": "code",
   "execution_count": 9,
   "metadata": {
    "gradient": {
     "editing": false,
     "execution_count": 8,
     "id": "2f8dd89d-3508-450a-8bf8-8d076acc861f",
     "kernelId": ""
    }
   },
   "outputs": [
    {
     "name": "stdout",
     "output_type": "stream",
     "text": [
      "file reading complete\n",
      "   lt_no    yr title                                                 lt  class\n",
      "0  14770  1996   NaN   Washington, D C   14770January 3, 1996ACCOUNT...      0\n",
      "1  14771  1996   NaN  v  WILLIAM J  YOUNG, UnitedStates District Cou...      0\n",
      "2  14772  1996   NaN    14772January 3, 1995SEC v  Basic Energy & Af...      0\n",
      "3  14773  1996   NaN    14773January 3, 1996SEC v  Edmund J  Lopinsk...      0\n",
      "4  14774  1996   NaN   Washington, D C   14774January 4, 1996V  ROBE...      0\n"
     ]
    }
   ],
   "source": [
    "filename = \"non_infected.csv\"\n",
    "features_non_infected = features_non_infected + build_features(filename)"
   ]
  },
  {
   "cell_type": "code",
   "execution_count": 10,
   "metadata": {},
   "outputs": [
    {
     "data": {
      "text/plain": [
       "7840"
      ]
     },
     "execution_count": 10,
     "metadata": {},
     "output_type": "execute_result"
    }
   ],
   "source": [
    "len(features_non_infected)"
   ]
  },
  {
   "cell_type": "code",
   "execution_count": 11,
   "metadata": {
    "gradient": {
     "editing": false,
     "execution_count": 9,
     "id": "3e3c08ef-750a-4e17-a837-0506b1755d86",
     "kernelId": ""
    }
   },
   "outputs": [],
   "source": [
    "# feature to index mapping\n",
    "feature_index_map = {}\n",
    "counter = 0"
   ]
  },
  {
   "cell_type": "code",
   "execution_count": 12,
   "metadata": {
    "gradient": {
     "editing": false,
     "execution_count": 11,
     "id": "2290d3e6-a1f0-4664-a36c-a5a330ec734d",
     "kernelId": ""
    }
   },
   "outputs": [],
   "source": [
    "for feature_row in features_infected:\n",
    "    for feature in feature_row:\n",
    "        if feature not in feature_index_map:\n",
    "            feature_index_map[feature] = counter\n",
    "            counter = counter + 1\n",
    "            \n",
    "for feature_row in features_non_infected:\n",
    "    for feature in feature_row:\n",
    "        if feature not in feature_index_map:\n",
    "            feature_index_map[feature] = counter\n",
    "            counter = counter + 1"
   ]
  },
  {
   "cell_type": "code",
   "execution_count": 13,
   "metadata": {
    "gradient": {
     "editing": false,
     "execution_count": 12,
     "id": "bb72be9f-1363-4cba-8381-46a675326e03",
     "kernelId": ""
    }
   },
   "outputs": [],
   "source": [
    "# feature vector\n",
    "def features_to_vector(features, cls):\n",
    "    row = np.zeros(len(feature_index_map) +1 ) # last column is for the class attribute, 1= infected, 2 = noninfected\n",
    "    for f in features:\n",
    "        index = feature_index_map[f]\n",
    "        row[index] = 1\n",
    "        #@todo normalization, if that helps \n",
    "        row[-1] = cls\n",
    "    return row"
   ]
  },
  {
   "cell_type": "code",
   "execution_count": 14,
   "metadata": {
    "gradient": {
     "editing": false,
     "execution_count": 13,
     "id": "9206043d-2d89-4a6c-83b2-66f48b4df5e2",
     "kernelId": ""
    }
   },
   "outputs": [],
   "source": [
    "data_feature_vector = np.zeros(((len(features_infected) + len(features_non_infected)), (len(feature_index_map) + 1)))"
   ]
  },
  {
   "cell_type": "code",
   "execution_count": 15,
   "metadata": {
    "gradient": {
     "execution_count": 14,
     "id": "594989bf-d582-4196-a7c5-66d70b2fbbce",
     "kernelId": ""
    }
   },
   "outputs": [],
   "source": [
    "row_count =0"
   ]
  },
  {
   "cell_type": "code",
   "execution_count": 16,
   "metadata": {
    "gradient": {
     "execution_count": 15,
     "id": "d81a53fb-203f-4f67-9221-1de7b806afb5",
     "kernelId": ""
    }
   },
   "outputs": [],
   "source": [
    "for feature_row in features_infected:\n",
    "    vector = features_to_vector(feature_row, 1) # 1 =  infected\n",
    "    data_feature_vector[row_count, :] = vector\n",
    "    row_count = row_count + 1"
   ]
  },
  {
   "cell_type": "code",
   "execution_count": 17,
   "metadata": {
    "gradient": {
     "execution_count": 16,
     "id": "e174f6f0-b801-47f4-8b00-84f1eb9b0838",
     "kernelId": ""
    }
   },
   "outputs": [],
   "source": [
    "for feature_row in features_non_infected:\n",
    "    vector = features_to_vector(feature_row, 0) # o = non infected\n",
    "    data_feature_vector[row_count, :] = vector\n",
    "    row_count = row_count + 1"
   ]
  },
  {
   "cell_type": "code",
   "execution_count": 18,
   "metadata": {
    "gradient": {
     "execution_count": 17,
     "id": "c4879278-df60-436e-b7e7-533a6d345016",
     "kernelId": ""
    }
   },
   "outputs": [],
   "source": [
    "data_feature_vector_df = pd.DataFrame(data_feature_vector)"
   ]
  },
  {
   "cell_type": "code",
   "execution_count": 19,
   "metadata": {},
   "outputs": [
    {
     "data": {
      "text/plain": [
       "65761"
      ]
     },
     "execution_count": 19,
     "metadata": {},
     "output_type": "execute_result"
    }
   ],
   "source": [
    "len(feature_index_map)"
   ]
  },
  {
   "cell_type": "code",
   "execution_count": 20,
   "metadata": {
    "gradient": {
     "execution_count": 18,
     "id": "e093dbd6-c07b-4090-9646-58dda87063a0",
     "kernelId": ""
    }
   },
   "outputs": [
    {
     "data": {
      "text/plain": [
       "(9213, 65762)"
      ]
     },
     "execution_count": 20,
     "metadata": {},
     "output_type": "execute_result"
    }
   ],
   "source": [
    "data_feature_vector_df.shape"
   ]
  },
  {
   "cell_type": "code",
   "execution_count": 21,
   "metadata": {
    "gradient": {
     "id": "5a98b743-54ed-4f29-8936-eef1116b78c0",
     "kernelId": ""
    }
   },
   "outputs": [
    {
     "data": {
      "text/html": [
       "<div>\n",
       "<style scoped>\n",
       "    .dataframe tbody tr th:only-of-type {\n",
       "        vertical-align: middle;\n",
       "    }\n",
       "\n",
       "    .dataframe tbody tr th {\n",
       "        vertical-align: top;\n",
       "    }\n",
       "\n",
       "    .dataframe thead th {\n",
       "        text-align: right;\n",
       "    }\n",
       "</style>\n",
       "<table border=\"1\" class=\"dataframe\">\n",
       "  <thead>\n",
       "    <tr style=\"text-align: right;\">\n",
       "      <th></th>\n",
       "      <th>0</th>\n",
       "      <th>1</th>\n",
       "      <th>2</th>\n",
       "      <th>3</th>\n",
       "      <th>4</th>\n",
       "      <th>5</th>\n",
       "      <th>6</th>\n",
       "      <th>7</th>\n",
       "      <th>8</th>\n",
       "      <th>9</th>\n",
       "      <th>...</th>\n",
       "      <th>65752</th>\n",
       "      <th>65753</th>\n",
       "      <th>65754</th>\n",
       "      <th>65755</th>\n",
       "      <th>65756</th>\n",
       "      <th>65757</th>\n",
       "      <th>65758</th>\n",
       "      <th>65759</th>\n",
       "      <th>65760</th>\n",
       "      <th>65761</th>\n",
       "    </tr>\n",
       "  </thead>\n",
       "  <tbody>\n",
       "    <tr>\n",
       "      <th>0</th>\n",
       "      <td>1.0</td>\n",
       "      <td>1.0</td>\n",
       "      <td>1.0</td>\n",
       "      <td>1.0</td>\n",
       "      <td>1.0</td>\n",
       "      <td>1.0</td>\n",
       "      <td>1.0</td>\n",
       "      <td>1.0</td>\n",
       "      <td>1.0</td>\n",
       "      <td>1.0</td>\n",
       "      <td>...</td>\n",
       "      <td>0.0</td>\n",
       "      <td>0.0</td>\n",
       "      <td>0.0</td>\n",
       "      <td>0.0</td>\n",
       "      <td>0.0</td>\n",
       "      <td>0.0</td>\n",
       "      <td>0.0</td>\n",
       "      <td>0.0</td>\n",
       "      <td>0.0</td>\n",
       "      <td>1.0</td>\n",
       "    </tr>\n",
       "    <tr>\n",
       "      <th>1</th>\n",
       "      <td>0.0</td>\n",
       "      <td>0.0</td>\n",
       "      <td>0.0</td>\n",
       "      <td>0.0</td>\n",
       "      <td>0.0</td>\n",
       "      <td>0.0</td>\n",
       "      <td>0.0</td>\n",
       "      <td>1.0</td>\n",
       "      <td>1.0</td>\n",
       "      <td>0.0</td>\n",
       "      <td>...</td>\n",
       "      <td>0.0</td>\n",
       "      <td>0.0</td>\n",
       "      <td>0.0</td>\n",
       "      <td>0.0</td>\n",
       "      <td>0.0</td>\n",
       "      <td>0.0</td>\n",
       "      <td>0.0</td>\n",
       "      <td>0.0</td>\n",
       "      <td>0.0</td>\n",
       "      <td>1.0</td>\n",
       "    </tr>\n",
       "    <tr>\n",
       "      <th>2</th>\n",
       "      <td>0.0</td>\n",
       "      <td>0.0</td>\n",
       "      <td>0.0</td>\n",
       "      <td>0.0</td>\n",
       "      <td>0.0</td>\n",
       "      <td>0.0</td>\n",
       "      <td>0.0</td>\n",
       "      <td>1.0</td>\n",
       "      <td>1.0</td>\n",
       "      <td>0.0</td>\n",
       "      <td>...</td>\n",
       "      <td>0.0</td>\n",
       "      <td>0.0</td>\n",
       "      <td>0.0</td>\n",
       "      <td>0.0</td>\n",
       "      <td>0.0</td>\n",
       "      <td>0.0</td>\n",
       "      <td>0.0</td>\n",
       "      <td>0.0</td>\n",
       "      <td>0.0</td>\n",
       "      <td>1.0</td>\n",
       "    </tr>\n",
       "    <tr>\n",
       "      <th>3</th>\n",
       "      <td>0.0</td>\n",
       "      <td>0.0</td>\n",
       "      <td>0.0</td>\n",
       "      <td>0.0</td>\n",
       "      <td>0.0</td>\n",
       "      <td>0.0</td>\n",
       "      <td>0.0</td>\n",
       "      <td>1.0</td>\n",
       "      <td>1.0</td>\n",
       "      <td>0.0</td>\n",
       "      <td>...</td>\n",
       "      <td>0.0</td>\n",
       "      <td>0.0</td>\n",
       "      <td>0.0</td>\n",
       "      <td>0.0</td>\n",
       "      <td>0.0</td>\n",
       "      <td>0.0</td>\n",
       "      <td>0.0</td>\n",
       "      <td>0.0</td>\n",
       "      <td>0.0</td>\n",
       "      <td>1.0</td>\n",
       "    </tr>\n",
       "    <tr>\n",
       "      <th>4</th>\n",
       "      <td>0.0</td>\n",
       "      <td>0.0</td>\n",
       "      <td>0.0</td>\n",
       "      <td>0.0</td>\n",
       "      <td>0.0</td>\n",
       "      <td>0.0</td>\n",
       "      <td>0.0</td>\n",
       "      <td>0.0</td>\n",
       "      <td>1.0</td>\n",
       "      <td>0.0</td>\n",
       "      <td>...</td>\n",
       "      <td>0.0</td>\n",
       "      <td>0.0</td>\n",
       "      <td>0.0</td>\n",
       "      <td>0.0</td>\n",
       "      <td>0.0</td>\n",
       "      <td>0.0</td>\n",
       "      <td>0.0</td>\n",
       "      <td>0.0</td>\n",
       "      <td>0.0</td>\n",
       "      <td>1.0</td>\n",
       "    </tr>\n",
       "  </tbody>\n",
       "</table>\n",
       "<p>5 rows × 65762 columns</p>\n",
       "</div>"
      ],
      "text/plain": [
       "   0      1      2      3      4      5      6      7      8      9      ...  \\\n",
       "0    1.0    1.0    1.0    1.0    1.0    1.0    1.0    1.0    1.0    1.0  ...   \n",
       "1    0.0    0.0    0.0    0.0    0.0    0.0    0.0    1.0    1.0    0.0  ...   \n",
       "2    0.0    0.0    0.0    0.0    0.0    0.0    0.0    1.0    1.0    0.0  ...   \n",
       "3    0.0    0.0    0.0    0.0    0.0    0.0    0.0    1.0    1.0    0.0  ...   \n",
       "4    0.0    0.0    0.0    0.0    0.0    0.0    0.0    0.0    1.0    0.0  ...   \n",
       "\n",
       "   65752  65753  65754  65755  65756  65757  65758  65759  65760  65761  \n",
       "0    0.0    0.0    0.0    0.0    0.0    0.0    0.0    0.0    0.0    1.0  \n",
       "1    0.0    0.0    0.0    0.0    0.0    0.0    0.0    0.0    0.0    1.0  \n",
       "2    0.0    0.0    0.0    0.0    0.0    0.0    0.0    0.0    0.0    1.0  \n",
       "3    0.0    0.0    0.0    0.0    0.0    0.0    0.0    0.0    0.0    1.0  \n",
       "4    0.0    0.0    0.0    0.0    0.0    0.0    0.0    0.0    0.0    1.0  \n",
       "\n",
       "[5 rows x 65762 columns]"
      ]
     },
     "execution_count": 21,
     "metadata": {},
     "output_type": "execute_result"
    }
   ],
   "source": [
    "data_feature_vector_df.head()"
   ]
  },
  {
   "cell_type": "code",
   "execution_count": null,
   "metadata": {
    "gradient": {
     "id": "b73767c9-903e-4358-b8af-8b87c94cbd6c",
     "kernelId": ""
    }
   },
   "outputs": [],
   "source": [
    "data_feature_vector_df.to_csv(\"feature_vector.csv\",sep=',')\n",
    "print(data_feature_vector_df[:5])"
   ]
  },
  {
   "cell_type": "code",
   "execution_count": null,
   "metadata": {
    "gradient": {
     "id": "47ae7444-8fd9-4a97-abb9-58cc5f52f1ac",
     "kernelId": ""
    }
   },
   "outputs": [],
   "source": [
    "feature_index_map_list = []\n",
    "for key, val in feature_index_map.items():\n",
    "    temp = [val,key]\n",
    "    feature_index_map_list.append(temp)"
   ]
  },
  {
   "cell_type": "code",
   "execution_count": null,
   "metadata": {
    "gradient": {
     "id": "dca91e81-22e1-4014-ba3f-d5c52beca118",
     "kernelId": ""
    }
   },
   "outputs": [],
   "source": [
    "temp = [len(feature_index_map_list), \"class\"]\n",
    "feature_index_map_list.append(temp)"
   ]
  },
  {
   "cell_type": "code",
   "execution_count": null,
   "metadata": {
    "gradient": {
     "id": "68fab9c1-2e4d-46cc-ab79-0402edba6f0a",
     "kernelId": ""
    }
   },
   "outputs": [],
   "source": [
    "feature_index_map_df = pd.DataFrame(feature_index_map_list, columns = ['idx', 'feature'])"
   ]
  },
  {
   "cell_type": "code",
   "execution_count": null,
   "metadata": {
    "gradient": {
     "id": "534f0aba-ecb1-46aa-a639-0a2895d7afd7",
     "kernelId": ""
    }
   },
   "outputs": [],
   "source": [
    "feature_index_map_df.to_csv(\"feature_vector_index_map.csv\", sep=',', index = False)"
   ]
  },
  {
   "cell_type": "code",
   "execution_count": null,
   "metadata": {
    "gradient": {
     "id": "d3cfee31-99c5-4cf6-b330-1cdb44c14ac5",
     "kernelId": ""
    }
   },
   "outputs": [],
   "source": []
  }
 ],
 "metadata": {
  "kernelspec": {
   "display_name": "Python 3",
   "language": "python",
   "name": "python3"
  },
  "language_info": {
   "codemirror_mode": {
    "name": "ipython",
    "version": 3
   },
   "file_extension": ".py",
   "mimetype": "text/x-python",
   "name": "python",
   "nbconvert_exporter": "python",
   "pygments_lexer": "ipython3",
   "version": "3.8.5"
  }
 },
 "nbformat": 4,
 "nbformat_minor": 5
}
