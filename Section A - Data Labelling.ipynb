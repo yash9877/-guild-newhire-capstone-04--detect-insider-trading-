{
 "cells": [
  {
   "cell_type": "code",
   "execution_count": 4,
   "metadata": {},
   "outputs": [],
   "source": [
    "import pandas as pd\n",
    "import re"
   ]
  },
  {
   "cell_type": "code",
   "execution_count": 5,
   "metadata": {},
   "outputs": [],
   "source": [
    "data_df = pd.read_csv('Dataset.csv')"
   ]
  },
  {
   "cell_type": "code",
   "execution_count": 9,
   "metadata": {},
   "outputs": [
    {
     "data": {
      "text/plain": [
       "(9213, 5)"
      ]
     },
     "execution_count": 9,
     "metadata": {},
     "output_type": "execute_result"
    }
   ],
   "source": [
    "data_df.drop (columns=data_df. columns [0], axis= 1, inplace= True)"
   ]
  },
  {
   "cell_type": "code",
   "execution_count": 10,
   "metadata": {},
   "outputs": [
    {
     "data": {
      "text/html": [
       "<div>\n",
       "<style scoped>\n",
       "    .dataframe tbody tr th:only-of-type {\n",
       "        vertical-align: middle;\n",
       "    }\n",
       "\n",
       "    .dataframe tbody tr th {\n",
       "        vertical-align: top;\n",
       "    }\n",
       "\n",
       "    .dataframe thead th {\n",
       "        text-align: right;\n",
       "    }\n",
       "</style>\n",
       "<table border=\"1\" class=\"dataframe\">\n",
       "  <thead>\n",
       "    <tr style=\"text-align: right;\">\n",
       "      <th></th>\n",
       "      <th>lt_no</th>\n",
       "      <th>yr</th>\n",
       "      <th>title</th>\n",
       "      <th>lt</th>\n",
       "      <th>class</th>\n",
       "    </tr>\n",
       "  </thead>\n",
       "  <tbody>\n",
       "    <tr>\n",
       "      <th>0</th>\n",
       "      <td>14770</td>\n",
       "      <td>1996</td>\n",
       "      <td>NaN</td>\n",
       "      <td>Washington, D C   14770January 3, 1996ACCOUNT...</td>\n",
       "      <td>0</td>\n",
       "    </tr>\n",
       "    <tr>\n",
       "      <th>1</th>\n",
       "      <td>14771</td>\n",
       "      <td>1996</td>\n",
       "      <td>NaN</td>\n",
       "      <td>v  WILLIAM J  YOUNG, UnitedStates District Cou...</td>\n",
       "      <td>1</td>\n",
       "    </tr>\n",
       "    <tr>\n",
       "      <th>2</th>\n",
       "      <td>14772</td>\n",
       "      <td>1996</td>\n",
       "      <td>NaN</td>\n",
       "      <td>14772January 3, 1995SEC v  Basic Energy &amp; Af...</td>\n",
       "      <td>1</td>\n",
       "    </tr>\n",
       "    <tr>\n",
       "      <th>3</th>\n",
       "      <td>14773</td>\n",
       "      <td>1996</td>\n",
       "      <td>NaN</td>\n",
       "      <td>14773January 3, 1996SEC v  Edmund J  Lopinsk...</td>\n",
       "      <td>0</td>\n",
       "    </tr>\n",
       "    <tr>\n",
       "      <th>4</th>\n",
       "      <td>14774</td>\n",
       "      <td>1996</td>\n",
       "      <td>NaN</td>\n",
       "      <td>Washington, D C   14774January 4, 1996V  ROBE...</td>\n",
       "      <td>0</td>\n",
       "    </tr>\n",
       "  </tbody>\n",
       "</table>\n",
       "</div>"
      ],
      "text/plain": [
       "   lt_no    yr title                                                 lt  class\n",
       "0  14770  1996   NaN   Washington, D C   14770January 3, 1996ACCOUNT...      0\n",
       "1  14771  1996   NaN  v  WILLIAM J  YOUNG, UnitedStates District Cou...      1\n",
       "2  14772  1996   NaN    14772January 3, 1995SEC v  Basic Energy & Af...      1\n",
       "3  14773  1996   NaN    14773January 3, 1996SEC v  Edmund J  Lopinsk...      0\n",
       "4  14774  1996   NaN   Washington, D C   14774January 4, 1996V  ROBE...      0"
      ]
     },
     "execution_count": 10,
     "metadata": {},
     "output_type": "execute_result"
    }
   ],
   "source": [
    "data_df.head()"
   ]
  },
  {
   "cell_type": "code",
   "execution_count": 11,
   "metadata": {},
   "outputs": [],
   "source": [
    "count =0\n",
    "count2 =0\n",
    "both = 0\n",
    "anyone =0\n",
    "data_df['class'] = 0"
   ]
  },
  {
   "cell_type": "code",
   "execution_count": 12,
   "metadata": {},
   "outputs": [],
   "source": [
    "for index, row in data_df.iterrows():\n",
    "    title_flag= False\n",
    "    litigation_flag = False\n",
    "    title = str(row['title'])\n",
    "    litigation = str(row['lt'])\n",
    "    if 'insider' in title.lower():\n",
    "        count +=1\n",
    "        anyone +=1\n",
    "        title_flag = True\n",
    "        data_df.loc[index,'class'] = 1\n",
    "        \n",
    "    if 'insider' in litigation.lower():\n",
    "        count2 +=1\n",
    "        anyone +=1\n",
    "        litigation_flag = True\n",
    "        data_df.loc[index,'class'] = 1\n",
    "        \n",
    "    if title_flag and litigation_flag:\n",
    "        both+=1"
   ]
  },
  {
   "cell_type": "code",
   "execution_count": 13,
   "metadata": {},
   "outputs": [],
   "source": [
    "data_infected_df = data_df[data_df['class'] ==1]\n",
    "data_non_infected_df = data_df[data_df['class'] ==0]"
   ]
  },
  {
   "cell_type": "code",
   "execution_count": 15,
   "metadata": {},
   "outputs": [],
   "source": [
    "data_infected_df.to_csv(\"infected.csv\", sep=',')\n",
    "data_non_infected_df.to_csv(\"non_infected.csv\", sep=',')"
   ]
  },
  {
   "cell_type": "code",
   "execution_count": 24,
   "metadata": {},
   "outputs": [
    {
     "data": {
      "text/plain": [
       "(1373, 5)"
      ]
     },
     "execution_count": 24,
     "metadata": {},
     "output_type": "execute_result"
    }
   ],
   "source": [
    "data_infected_df.shape"
   ]
  },
  {
   "cell_type": "code",
   "execution_count": 17,
   "metadata": {},
   "outputs": [
    {
     "data": {
      "text/plain": [
       "(7840, 5)"
      ]
     },
     "execution_count": 17,
     "metadata": {},
     "output_type": "execute_result"
    }
   ],
   "source": [
    "data_non_infected_df.shape"
   ]
  },
  {
   "cell_type": "code",
   "execution_count": 23,
   "metadata": {},
   "outputs": [
    {
     "data": {
      "text/html": [
       "<div>\n",
       "<style scoped>\n",
       "    .dataframe tbody tr th:only-of-type {\n",
       "        vertical-align: middle;\n",
       "    }\n",
       "\n",
       "    .dataframe tbody tr th {\n",
       "        vertical-align: top;\n",
       "    }\n",
       "\n",
       "    .dataframe thead th {\n",
       "        text-align: right;\n",
       "    }\n",
       "</style>\n",
       "<table border=\"1\" class=\"dataframe\">\n",
       "  <thead>\n",
       "    <tr style=\"text-align: right;\">\n",
       "      <th></th>\n",
       "      <th>lt_no</th>\n",
       "      <th>yr</th>\n",
       "      <th>title</th>\n",
       "      <th>lt</th>\n",
       "      <th>class</th>\n",
       "    </tr>\n",
       "  </thead>\n",
       "  <tbody>\n",
       "    <tr>\n",
       "      <th>0</th>\n",
       "      <td>14770</td>\n",
       "      <td>1996</td>\n",
       "      <td>NaN</td>\n",
       "      <td>Washington, D C   14770January 3, 1996ACCOUNT...</td>\n",
       "      <td>0</td>\n",
       "    </tr>\n",
       "    <tr>\n",
       "      <th>1</th>\n",
       "      <td>14771</td>\n",
       "      <td>1996</td>\n",
       "      <td>NaN</td>\n",
       "      <td>v  WILLIAM J  YOUNG, UnitedStates District Cou...</td>\n",
       "      <td>0</td>\n",
       "    </tr>\n",
       "    <tr>\n",
       "      <th>2</th>\n",
       "      <td>14772</td>\n",
       "      <td>1996</td>\n",
       "      <td>NaN</td>\n",
       "      <td>14772January 3, 1995SEC v  Basic Energy &amp; Af...</td>\n",
       "      <td>0</td>\n",
       "    </tr>\n",
       "    <tr>\n",
       "      <th>3</th>\n",
       "      <td>14773</td>\n",
       "      <td>1996</td>\n",
       "      <td>NaN</td>\n",
       "      <td>14773January 3, 1996SEC v  Edmund J  Lopinsk...</td>\n",
       "      <td>0</td>\n",
       "    </tr>\n",
       "    <tr>\n",
       "      <th>4</th>\n",
       "      <td>14774</td>\n",
       "      <td>1996</td>\n",
       "      <td>NaN</td>\n",
       "      <td>Washington, D C   14774January 4, 1996V  ROBE...</td>\n",
       "      <td>0</td>\n",
       "    </tr>\n",
       "  </tbody>\n",
       "</table>\n",
       "</div>"
      ],
      "text/plain": [
       "   lt_no    yr title                                                 lt  class\n",
       "0  14770  1996   NaN   Washington, D C   14770January 3, 1996ACCOUNT...      0\n",
       "1  14771  1996   NaN  v  WILLIAM J  YOUNG, UnitedStates District Cou...      0\n",
       "2  14772  1996   NaN    14772January 3, 1995SEC v  Basic Energy & Af...      0\n",
       "3  14773  1996   NaN    14773January 3, 1996SEC v  Edmund J  Lopinsk...      0\n",
       "4  14774  1996   NaN   Washington, D C   14774January 4, 1996V  ROBE...      0"
      ]
     },
     "execution_count": 23,
     "metadata": {},
     "output_type": "execute_result"
    }
   ],
   "source": [
    "data_df.head()"
   ]
  },
  {
   "cell_type": "code",
   "execution_count": null,
   "metadata": {},
   "outputs": [],
   "source": []
  }
 ],
 "metadata": {
  "kernelspec": {
   "display_name": "Python 3",
   "language": "python",
   "name": "python3"
  },
  "language_info": {
   "codemirror_mode": {
    "name": "ipython",
    "version": 3
   },
   "file_extension": ".py",
   "mimetype": "text/x-python",
   "name": "python",
   "nbconvert_exporter": "python",
   "pygments_lexer": "ipython3",
   "version": "3.8.5"
  }
 },
 "nbformat": 4,
 "nbformat_minor": 4
}
